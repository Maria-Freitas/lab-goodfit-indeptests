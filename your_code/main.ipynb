{
 "cells": [
  {
   "cell_type": "code",
   "execution_count": 1,
   "metadata": {},
   "outputs": [],
   "source": [
    "#Libraries\n",
    "import numpy as np\n",
    "import pandas as pd\n",
    "from scipy.stats import chisquare,chi2_contingency, poisson, norm, binom"
   ]
  },
  {
   "cell_type": "markdown",
   "metadata": {},
   "source": [
    "## Question 1\n",
    "The following table indicates the number of 6-point scores in an American rugby match in the 1979 season.\n",
    "\n",
    "![](table1.png)\n",
    "\n",
    "Based on these results, we create a Poisson distribution with the sample mean parameter  = 2.435. Is there any reason to believe that at a .05 level the number of scores is a Poisson variable?"
   ]
  },
  {
   "cell_type": "code",
   "execution_count": 2,
   "metadata": {},
   "outputs": [],
   "source": [
    "#Data from sample\n",
    "n_sample=448\n",
    "observed=[35,99,104,110,62,25,10, 3]\n",
    "#Values based on wha we expect\n",
    "mu = 2.435\n",
    "exp_distr = poisson(mu)\n",
    "expected = [exp_distr.pmf(score)*n_sample for score in range(7)] + [(1-exp_distr.cdf(6))*n_sample]\n",
    "#Making chi test\n",
    "teste1 = chisquare(observed,expected)"
   ]
  },
  {
   "cell_type": "code",
   "execution_count": 3,
   "metadata": {},
   "outputs": [
    {
     "data": {
      "text/plain": [
       "0.4836889068537311"
      ]
     },
     "execution_count": 3,
     "metadata": {},
     "output_type": "execute_result"
    }
   ],
   "source": [
    "teste1[1]"
   ]
  },
  {
   "cell_type": "code",
   "execution_count": 40,
   "metadata": {},
   "outputs": [
    {
     "name": "stdout",
     "output_type": "stream",
     "text": [
      "Null hypothesis rejected.\n"
     ]
    }
   ],
   "source": [
    "#Conclusion\n",
    "if teste1[1]<0.5:\n",
    "    print(\"Null hypothesis rejected.\")\n",
    "else:\n",
    "    print(\"Null hypothesis NOT rejected. There is evidence to support the claim that scores of American rugby follow a poisson distribution with mu=\",mu)"
   ]
  },
  {
   "cell_type": "markdown",
   "metadata": {},
   "source": [
    "## Question 2\n",
    "Let's analyze a discrete distribution. To analyze the number of defective items in a factory in the city of Medellín, we took a random sample of n = 60 articles and observed the number of defectives in the following table:\n",
    "\n",
    "![](table2.png)\n",
    "\n",
    "A poissón distribution was proposed since it is defined for x = 0,1,2,3, .... using the following model:\n",
    "\n",
    "![](image1.png)\n",
    "\n",
    "Does the distribution of defective items follow this distribution?"
   ]
  },
  {
   "cell_type": "markdown",
   "metadata": {},
   "source": [
    "#### > If the mu needs to be estimated or is given from sample we need to take out one additional degree of freedom"
   ]
  },
  {
   "cell_type": "code",
   "execution_count": 26,
   "metadata": {},
   "outputs": [],
   "source": [
    "#Data from sample\n",
    "n_sample=60\n",
    "observed=[32,15,9,4]\n",
    "#Values based on wha we expect\n",
    "n_defects =[0,1,3,4]\n",
    "mu = sum([observed[i]*(n_defects[i]/60) for i in range(len(observed))])\n",
    "exp_distr = poisson(mu)\n",
    "expected = [exp_distr.pmf(defects)*n_sample for defects in n_defects] \n",
    "#Making chi test\n",
    "teste3 = chisquare(observed,expected)"
   ]
  },
  {
   "cell_type": "code",
   "execution_count": 22,
   "metadata": {},
   "outputs": [
    {
     "name": "stdout",
     "output_type": "stream",
     "text": [
      "Null hypothesis rejected.\n"
     ]
    }
   ],
   "source": [
    "#Conclusion\n",
    "if teste3[1]<0.5:\n",
    "    print(\"Null hypothesis rejected.\")\n",
    "else:\n",
    "    print(\"Null hypothesis NOT rejected. There is evidence to support the claim that scores of American rugby follow a poisson distribution with mu=\",mu)"
   ]
  },
  {
   "cell_type": "markdown",
   "metadata": {},
   "source": [
    "## Question 3\n",
    "A quality control engineer takes a sample of 10 tires that come out of an assembly line, and would like to verify on the basis of the data that follows, if the number of tires with defects observed over 200 days, if it is true that 5% of all tires have defects (that is, if the sample comes from a binomial population with n = 10 and p = 0.05). \n",
    "\n",
    "![](table3.png)\n"
   ]
  },
  {
   "cell_type": "code",
   "execution_count": 45,
   "metadata": {},
   "outputs": [],
   "source": [
    "#Data from sample\n",
    "n_sample=200*10      #total tires\n",
    "observed=[138,53,9]\n",
    "#Values based on wha we expect\n",
    "exp_distr = binom(10,0.05)\n",
    "expected = [exp_distr.pmf(i)*n_sample for i in range(2)] + [(1-exp_distr.cdf(1))*n_sample]\n",
    "#Making chi test\n",
    "teste4 = chisquare(observed,expected)"
   ]
  },
  {
   "cell_type": "code",
   "execution_count": 46,
   "metadata": {},
   "outputs": [
    {
     "name": "stdout",
     "output_type": "stream",
     "text": [
      "Null hypothesis rejected.\n"
     ]
    }
   ],
   "source": [
    "#Conclusion\n",
    "if teste4[1]<0.5:\n",
    "    print(\"Null hypothesis rejected.\")\n",
    "else:\n",
    "    print(\"Null hypothesis NOT rejected.\")"
   ]
  },
  {
   "cell_type": "markdown",
   "metadata": {},
   "source": [
    "## Question 4\n",
    "A researcher gathers information about the patterns of Physical Activity of children in the fifth grade of primary school of a public school. He defines three categories of physical activity (Low, Medium, High). He also inquires about the regular consumption of sugary drinks at school, and defines two categories (Yes = consumed, No = not consumed). We would like to evaluate if there is an association between patterns of physical activity and the consumption of sugary drinks for the children of this school, at a level of 5% significance. The results are in the following table: \n",
    "\n",
    "![](table4.png)"
   ]
  },
  {
   "cell_type": "code",
   "execution_count": 26,
   "metadata": {},
   "outputs": [],
   "source": [
    "drink_activity = pd.DataFrame({\"Yes\":{\"Low\":32,\"Medium\":14,\"High\":6},\"No\":{\"Low\":12,\"Medium\":22,\"High\":9}})"
   ]
  },
  {
   "cell_type": "code",
   "execution_count": 30,
   "metadata": {},
   "outputs": [],
   "source": [
    "#  H0: Sugar drinks and pysical activity are independent\n",
    "con_test = chi2_contingency(drink_activity)"
   ]
  },
  {
   "cell_type": "code",
   "execution_count": 32,
   "metadata": {},
   "outputs": [
    {
     "name": "stdout",
     "output_type": "stream",
     "text": [
      "Null hypothesis rejected. Level of phyical activity is independent from sugary drink consumption.\n"
     ]
    }
   ],
   "source": [
    "#Conclusion\n",
    "if con_test[1]<0.5:\n",
    "    print(\"Null hypothesis rejected. Level of phyical activity is independent from sugary drink consumption.\")\n",
    "else:\n",
    "    print(\"Null hypothesis NOT rejected.\")"
   ]
  }
 ],
 "metadata": {
  "kernelspec": {
   "display_name": "Python 3",
   "language": "python",
   "name": "python3"
  },
  "language_info": {
   "codemirror_mode": {
    "name": "ipython",
    "version": 3
   },
   "file_extension": ".py",
   "mimetype": "text/x-python",
   "name": "python",
   "nbconvert_exporter": "python",
   "pygments_lexer": "ipython3",
   "version": "3.7.7"
  }
 },
 "nbformat": 4,
 "nbformat_minor": 2
}
